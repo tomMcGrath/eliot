{
 "cells": [
  {
   "cell_type": "code",
   "execution_count": 1,
   "id": "9053e61d",
   "metadata": {},
   "outputs": [],
   "source": [
    "# From eliot\n",
    "import char_tokeniser\n",
    "import batching\n",
    "import models\n",
    "import wikitext_utils\n",
    "\n",
    "# Other imports\n",
    "import importlib\n",
    "import matplotlib.pyplot as plt\n",
    "import torch\n",
    "import tqdm"
   ]
  },
  {
   "cell_type": "code",
   "execution_count": 2,
   "id": "a7f666d8",
   "metadata": {},
   "outputs": [
    {
     "name": "stderr",
     "output_type": "stream",
     "text": [
      "Found cached dataset wikitext (/home/tom/.cache/huggingface/datasets/wikitext/wikitext-103-raw-v1/1.0.0/a241db52902eaf2c6aa732210bead40c090019a499ceb13bcbfa3f8ab646a126)\n"
     ]
    }
   ],
   "source": [
    "# Load WikiText-103\n",
    "dataset = wikitext_utils.load_wikitext_train()"
   ]
  },
  {
   "cell_type": "code",
   "execution_count": 3,
   "id": "47a786c2",
   "metadata": {},
   "outputs": [
    {
     "name": "stderr",
     "output_type": "stream",
     "text": [
      "100%|██████████████████████████████| 1801350/1801350 [00:35<00:00, 50839.21it/s]\n"
     ]
    }
   ],
   "source": [
    "# Train the tokeniser\n",
    "vocab_size = 256\n",
    "tokeniser = char_tokeniser.CharacterTokeniser(vocab_size)\n",
    "tokeniser.train(dataset)"
   ]
  },
  {
   "cell_type": "code",
   "execution_count": 4,
   "id": "f93328ef",
   "metadata": {},
   "outputs": [],
   "source": [
    "# Set up data source with some ambitious parameters\n",
    "seq_len = 128\n",
    "batch_size = 1024\n",
    "\n",
    "text_iterator = wikitext_utils.make_shuffled_text_iterator(dataset)\n",
    "process_fn = batching.make_processor(tokeniser, seq_len, discard_last=True)\n",
    "datasources = [batching.DataSource(text_iterator, process_fn) for _ in range(batch_size)]\n",
    "\n",
    "batched_data_source = batching.BatchedDataSource(datasources)"
   ]
  },
  {
   "cell_type": "code",
   "execution_count": 5,
   "id": "11d3f710",
   "metadata": {},
   "outputs": [
    {
     "name": "stderr",
     "output_type": "stream",
     "text": [
      "100%|█████████████████████████████████████████| 100/100 [00:03<00:00, 29.92it/s]\n"
     ]
    }
   ],
   "source": [
    "# Speed test\n",
    "n_iters = int(1e2)\n",
    "\n",
    "for _ in tqdm.tqdm(range(n_iters)):\n",
    "    batched_data = batched_data_source.get_next()"
   ]
  },
  {
   "cell_type": "code",
   "execution_count": 6,
   "id": "b818bf1c",
   "metadata": {},
   "outputs": [
    {
     "name": "stdout",
     "output_type": "stream",
     "text": [
      "Item 0 in batch:\n",
      "  \" Super Meat Boy 's greatest strength has to be how it never takes itself too seriously — as maddening as some of the levels go\n",
      "\n",
      "Item 1 in batch:\n",
      " eason , registering a 19 @-@ 15 record . During the 1905 season , Chesbro was involved in the first squeeze play in baseball . A\n",
      "\n",
      "Item 2 in batch:\n",
      " efan Dennis as the mustache @-@ twirling panto villain Paul Robinson , is a genius . I just wanted to yell out ' He 's behind yo\n",
      "\n",
      "Item 3 in batch:\n",
      "  get into the wrong types of things , especially gangbanging and selling drugs . I 've seen what that was like , and I don 't gl\n",
      "\n",
      "Item 4 in batch:\n",
      "  scheduled for the weekend of July 8 and July 9 at Camp Hansen and Marine Corps Air Station Futenma had to be postponed . Tropic\n",
      "\n"
     ]
    }
   ],
   "source": [
    "# Read and check we've not got autocorrelation\n",
    "for i in range(5):\n",
    "    batch_string = tokeniser.detokenise_to_string(batched_data['tokens'][i])\n",
    "    print(f'Item {i} in batch:\\n {batch_string}\\n')"
   ]
  },
  {
   "cell_type": "code",
   "execution_count": null,
   "id": "2c640a0b",
   "metadata": {},
   "outputs": [
    {
     "name": "stderr",
     "output_type": "stream",
     "text": [
      " 96%|████████████████████████████████████████▎ | 96/100 [00:16<00:00,  5.80it/s]"
     ]
    }
   ],
   "source": [
    "# Model training\n",
    "linear_model = models.LinearModel(vocab_size, embedding_size)\n",
    "\n",
    "lr = 0.1\n",
    "loss_fn = torch.nn.CrossEntropyLoss()\n",
    "optimizer = torch.optim.SGD(linear_model.parameters(), lr=lr)\n",
    "\n",
    "n_steps = 100\n",
    "losses = []\n",
    "for _ in tqdm.tqdm(range(n_steps)):\n",
    "    # Get data\n",
    "    batched_data = batched_data_source.get_next()\n",
    "    tokens = torch.tensor(batched_data['tokens'])\n",
    "    targets = torch.tensor(batched_data['targets'])\n",
    "    \n",
    "    # Compute predictions\n",
    "    logits = linear_model(tokens)\n",
    "    \n",
    "    # Compute loss\n",
    "    flat_logits = torch.flatten(logits, start_dim=0, end_dim=1)\n",
    "    flat_targets = torch.flatten(targets)\n",
    "    loss = loss_fn(flat_logits, flat_targets)\n",
    "    losses.append(loss.detach().numpy())\n",
    "    \n",
    "    # Apply SGD\n",
    "    optimizer.zero_grad()\n",
    "    loss.backward()\n",
    "    optimizer.step()"
   ]
  },
  {
   "cell_type": "code",
   "execution_count": null,
   "id": "cb04fa3c",
   "metadata": {},
   "outputs": [],
   "source": [
    "# \n",
    "fig, axes = plt.subplots(1)\n",
    "axes.plot(losses)\n",
    "axes.set_xlabel('Training steps')\n",
    "axes.set_ylabel('Mean log-loss')"
   ]
  },
  {
   "cell_type": "code",
   "execution_count": null,
   "id": "df510e0c",
   "metadata": {},
   "outputs": [],
   "source": []
  }
 ],
 "metadata": {
  "kernelspec": {
   "display_name": "Python 3 (ipykernel)",
   "language": "python",
   "name": "python3"
  },
  "language_info": {
   "codemirror_mode": {
    "name": "ipython",
    "version": 3
   },
   "file_extension": ".py",
   "mimetype": "text/x-python",
   "name": "python",
   "nbconvert_exporter": "python",
   "pygments_lexer": "ipython3",
   "version": "3.10.6"
  }
 },
 "nbformat": 4,
 "nbformat_minor": 5
}
