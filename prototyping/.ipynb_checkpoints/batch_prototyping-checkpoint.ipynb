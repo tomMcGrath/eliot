{
 "cells": [
  {
   "cell_type": "code",
   "execution_count": 1,
   "id": "b9aa11b8",
   "metadata": {},
   "outputs": [],
   "source": [
    "import datasets\n",
    "import matplotlib.pyplot as plt\n",
    "import tqdm\n",
    "import collections\n",
    "import numpy as np"
   ]
  },
  {
   "cell_type": "code",
   "execution_count": 2,
   "id": "72ae0ff4",
   "metadata": {},
   "outputs": [
    {
     "name": "stderr",
     "output_type": "stream",
     "text": [
      "Found cached dataset wikitext (/home/tom/.cache/huggingface/datasets/wikitext/wikitext-103-raw-v1/1.0.0/a241db52902eaf2c6aa732210bead40c090019a499ceb13bcbfa3f8ab646a126)\n"
     ]
    }
   ],
   "source": [
    "dataset_group = 'wikitext'\n",
    "dataset_name = 'wikitext-103-raw-v1'\n",
    "dataset_split = 'train'\n",
    "dataset_full_name = '/'.join([dataset_group, dataset_name, dataset_split])\n",
    "\n",
    "dataset = datasets.load_dataset(dataset_group, name=dataset_name, split=dataset_split)"
   ]
  },
  {
   "cell_type": "code",
   "execution_count": 3,
   "id": "92270f1f",
   "metadata": {},
   "outputs": [],
   "source": [
    "batch_size = 3"
   ]
  },
  {
   "cell_type": "code",
   "execution_count": 4,
   "id": "6462c6e6",
   "metadata": {},
   "outputs": [],
   "source": [
    "foo = [['abc', 'def'], ['ghi', 'jkl']]"
   ]
  },
  {
   "cell_type": "code",
   "execution_count": 5,
   "id": "c4a3dfe9",
   "metadata": {},
   "outputs": [
    {
     "name": "stdout",
     "output_type": "stream",
     "text": [
      "['ghi', 'jkl']\n",
      "['abc', 'def']\n",
      "Finished\n"
     ]
    }
   ],
   "source": [
    "while foo:\n",
    "    print(foo.pop())\n",
    "    \n",
    "if not foo:\n",
    "    print('Finished')"
   ]
  },
  {
   "cell_type": "code",
   "execution_count": 6,
   "id": "ff8ac278",
   "metadata": {},
   "outputs": [],
   "source": [
    "sequences = [dataset[i]['text'] for i in range(batch_size)]"
   ]
  },
  {
   "cell_type": "code",
   "execution_count": 7,
   "id": "9f742842",
   "metadata": {},
   "outputs": [],
   "source": [
    "class DatasetIterator:\n",
    "    \n",
    "    def __init__(self, dataset, filter_fn):\n",
    "        self.dataset = dataset\n",
    "        self.filter_fn = filter_fn\n",
    "        self.seq_idx = 0\n",
    "        \n",
    "    def _return_next_record(self):\n",
    "        datum = self.dataset[self.seq_idx]\n",
    "        self.seq_idx += 1\n",
    "        return datum\n",
    "        \n",
    "    def get_next(self):\n",
    "        datum = self._return_next_record()\n",
    "        while not self.filter_fn(datum):\n",
    "            datum = self._return_next_record()\n",
    "        return datum\n",
    "    \n",
    "    def reset(self):\n",
    "        self.seq_idx = 0"
   ]
  },
  {
   "cell_type": "code",
   "execution_count": 8,
   "id": "5bde1056",
   "metadata": {},
   "outputs": [],
   "source": [
    "ds_iterator = DatasetIterator(dataset, lambda x: len(x['text']))"
   ]
  },
  {
   "cell_type": "code",
   "execution_count": 9,
   "id": "aa1abe28",
   "metadata": {
    "scrolled": true
   },
   "outputs": [
    {
     "name": "stdout",
     "output_type": "stream",
     "text": [
      "{'text': ' = Valkyria Chronicles III = \\n'}\n",
      "{'text': ' Senjō no Valkyria 3 : Unrecorded Chronicles ( Japanese : 戦場のヴァルキュリア3 , lit . Valkyria of the Battlefield 3 ) , commonly referred to as Valkyria Chronicles III outside Japan , is a tactical role @-@ playing video game developed by Sega and Media.Vision for the PlayStation Portable . Released in January 2011 in Japan , it is the third game in the Valkyria series . Employing the same fusion of tactical and real @-@ time gameplay as its predecessors , the story runs parallel to the first game and follows the \" Nameless \" , a penal military unit serving the nation of Gallia during the Second Europan War who perform secret black operations and are pitted against the Imperial unit \" Calamaty Raven \" . \\n'}\n",
      "{'text': \" The game began development in 2010 , carrying over a large portion of the work done on Valkyria Chronicles II . While it retained the standard features of the series , it also underwent multiple adjustments , such as making the game more forgiving for series newcomers . Character designer Raita Honjou and composer Hitoshi Sakimoto both returned from previous entries , along with Valkyria Chronicles II director Takeshi Ozawa . A large team of writers handled the script . The game 's opening theme was sung by May 'n . \\n\"}\n",
      "{'text': \" It met with positive sales in Japan , and was praised by both Japanese and western critics . After release , it received downloadable content , along with an expanded edition in November of that year . It was also adapted into manga and an original video animation series . Due to low sales of Valkyria Chronicles II , Valkyria Chronicles III was not localized , but a fan translation compatible with the game 's expanded edition was released in 2014 . Media.Vision would return to the franchise with the development of Valkyria : Azure Revolution for the PlayStation 4 . \\n\"}\n"
     ]
    }
   ],
   "source": [
    "for i in range(4):\n",
    "    print(ds_iterator.get_next())"
   ]
  },
  {
   "cell_type": "code",
   "execution_count": 10,
   "id": "eae8bbfc",
   "metadata": {},
   "outputs": [],
   "source": [
    "class Batcher:\n",
    "    \n",
    "    def __init__(self, data_source, batch_size, seq_len):\n",
    "        self.data_source = data_source\n",
    "        self.batch_size = batch_size\n",
    "        self.seq_len = seq_len\n",
    "        \n",
    "    def setup(self):\n",
    "        self._per_element_data = [self.data_source.get_next() for _ in range(self.batch_size)]"
   ]
  },
  {
   "cell_type": "code",
   "execution_count": 11,
   "id": "e4599fbe",
   "metadata": {},
   "outputs": [],
   "source": [
    "batcher = Batcher(ds_iterator, 4, 128)"
   ]
  },
  {
   "cell_type": "code",
   "execution_count": 12,
   "id": "6638e86a",
   "metadata": {},
   "outputs": [],
   "source": [
    "batcher.setup()"
   ]
  },
  {
   "cell_type": "code",
   "execution_count": 13,
   "id": "2e4a9395",
   "metadata": {
    "scrolled": true
   },
   "outputs": [
    {
     "data": {
      "text/plain": [
       "[{'text': ' = = Gameplay = = \\n'},\n",
       " {'text': \" As with previous Valkyira Chronicles games , Valkyria Chronicles III is a tactical role @-@ playing game where players take control of a military unit and take part in missions against enemy forces . Stories are told through comic book @-@ like panels with animated character portraits , with characters speaking partially through voiced speech bubbles and partially through unvoiced text . The player progresses through a series of linear missions , gradually unlocked as maps that can be freely scanned through and replayed as they are unlocked . The route to each story location on the map varies depending on an individual player 's approach : when one option is selected , the other is sealed off to the player . Outside missions , the player characters rest in a camp , where units can be customized and character growth occurs . Alongside the main story missions are character @-@ specific sub missions relating to different squad members . After the game 's completion , additional episodes are unlocked , some of them having a higher difficulty than those found in the rest of the game . There are also love simulation elements related to the game 's two main heroines , although they take a very minor role . \\n\"},\n",
       " {'text': ' The game \\'s battle system , the BliTZ system , is carried over directly from Valkyira Chronicles . During missions , players select each unit using a top @-@ down perspective of the battlefield map : once a character is selected , the player moves the character around the battlefield in third @-@ person . A character can only act once per @-@ turn , but characters can be granted multiple turns at the expense of other characters \\' turns . Each character has a field and distance of movement limited by their Action Gauge . Up to nine characters can be assigned to a single mission . During gameplay , characters will call out if something happens to them , such as their health points ( HP ) getting low or being knocked out by enemy attacks . Each character has specific \" Potentials \" , skills unique to each character . They are divided into \" Personal Potential \" , which are innate skills that remain unaltered unless otherwise dictated by the story and can either help or impede a character , and \" Battle Potentials \" , which are grown throughout the game and always grant boons to a character . To learn Battle Potentials , each character has a unique \" Masters Table \" , a grid @-@ based skill table that can be used to acquire and link different skills . Characters also have Special Abilities that grant them temporary boosts on the battlefield : Kurt can activate \" Direct Command \" and move around the battlefield without depleting his Action Point gauge , the character Reila can shift into her \" Valkyria Form \" and become invincible , while Imca can target multiple enemy units with her heavy weapon . \\n'},\n",
       " {'text': \" Troops are divided into five classes : Scouts , Shocktroopers , Engineers , Lancers and Armored Soldier . Troopers can switch classes by changing their assigned weapon . Changing class does not greatly affect the stats gained while in a previous class . With victory in battle , experience points are awarded to the squad , which are distributed into five different attributes shared by the entire squad , a feature differing from early games ' method of distributing to different unit types . \\n\"}]"
      ]
     },
     "execution_count": 13,
     "metadata": {},
     "output_type": "execute_result"
    }
   ],
   "source": [
    "batcher._per_element_data"
   ]
  },
  {
   "cell_type": "code",
   "execution_count": 14,
   "id": "0350581a",
   "metadata": {},
   "outputs": [
    {
     "ename": "ImportError",
     "evalue": "attempted relative import with no known parent package",
     "output_type": "error",
     "traceback": [
      "\u001b[0;31m---------------------------------------------------------------------------\u001b[0m",
      "\u001b[0;31mImportError\u001b[0m                               Traceback (most recent call last)",
      "\u001b[0;32m/tmp/ipykernel_7287/2396259731.py\u001b[0m in \u001b[0;36m<module>\u001b[0;34m\u001b[0m\n\u001b[0;32m----> 1\u001b[0;31m \u001b[0;32mfrom\u001b[0m \u001b[0;34m.\u001b[0m \u001b[0;32mimport\u001b[0m \u001b[0mchar_tokeniser\u001b[0m\u001b[0;34m\u001b[0m\u001b[0;34m\u001b[0m\u001b[0m\n\u001b[0m",
      "\u001b[0;31mImportError\u001b[0m: attempted relative import with no known parent package"
     ]
    }
   ],
   "source": [
    "from . import char_tokeniser"
   ]
  },
  {
   "cell_type": "code",
   "execution_count": null,
   "id": "7289e002",
   "metadata": {},
   "outputs": [],
   "source": []
  }
 ],
 "metadata": {
  "kernelspec": {
   "display_name": "Python 3 (ipykernel)",
   "language": "python",
   "name": "python3"
  },
  "language_info": {
   "codemirror_mode": {
    "name": "ipython",
    "version": 3
   },
   "file_extension": ".py",
   "mimetype": "text/x-python",
   "name": "python",
   "nbconvert_exporter": "python",
   "pygments_lexer": "ipython3",
   "version": "3.10.6"
  }
 },
 "nbformat": 4,
 "nbformat_minor": 5
}
