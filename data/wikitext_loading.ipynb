{
 "cells": [
  {
   "cell_type": "markdown",
   "id": "405b64e0",
   "metadata": {},
   "source": [
    "# Imports"
   ]
  },
  {
   "cell_type": "code",
   "execution_count": 1,
   "id": "db69de04",
   "metadata": {},
   "outputs": [],
   "source": [
    "import datasets\n",
    "import matplotlib.pyplot as plt\n",
    "import tqdm\n",
    "import collections"
   ]
  },
  {
   "cell_type": "markdown",
   "id": "94f6246c",
   "metadata": {},
   "source": [
    "# Dataset loading\n",
    "First, load the HF wikitext dataset. The first run will involve a download, after which it will be cached."
   ]
  },
  {
   "cell_type": "code",
   "execution_count": 2,
   "id": "4af7f811",
   "metadata": {},
   "outputs": [
    {
     "name": "stderr",
     "output_type": "stream",
     "text": [
      "Found cached dataset wikitext (/home/tom/.cache/huggingface/datasets/wikitext/wikitext-103-raw-v1/1.0.0/a241db52902eaf2c6aa732210bead40c090019a499ceb13bcbfa3f8ab646a126)\n"
     ]
    }
   ],
   "source": [
    "dataset_group = 'wikitext'\n",
    "dataset_name = 'wikitext-103-raw-v1'\n",
    "dataset_split = 'train'\n",
    "dataset_full_name = '/'.join([dataset_group, dataset_name, dataset_split])\n",
    "\n",
    "dataset = datasets.load_dataset(dataset_group, name=dataset_name, split=dataset_split)"
   ]
  },
  {
   "cell_type": "markdown",
   "id": "a4a78688",
   "metadata": {},
   "source": [
    "# Basic dataset information"
   ]
  },
  {
   "cell_type": "code",
   "execution_count": 3,
   "id": "f3c02283",
   "metadata": {},
   "outputs": [
    {
     "name": "stdout",
     "output_type": "stream",
     "text": [
      "Number of records in wikitext/wikitext-103-raw-v1/train: 1801350\n"
     ]
    }
   ],
   "source": [
    "num_records = len(dataset)\n",
    "print(f'Number of records in {dataset_full_name}: {num_records}')"
   ]
  },
  {
   "cell_type": "markdown",
   "id": "0bf5c700",
   "metadata": {},
   "source": [
    "## Look at a few records"
   ]
  },
  {
   "cell_type": "code",
   "execution_count": 4,
   "id": "267114c3",
   "metadata": {},
   "outputs": [
    {
     "name": "stdout",
     "output_type": "stream",
     "text": [
      "0 \n",
      "1  = Valkyria Chronicles III = \n",
      "\n",
      "2 \n",
      "3  Senjō no Valkyria 3 : Unrecorded Chronicles ( Japanese : 戦場のヴァルキュリア3 , lit . Valkyria of the Battlefield 3 ) , commonly referred to as Valkyria Chronicles III outside Japan , is a tactical role @-@ playing video game developed by Sega and Media.Vision for the PlayStation Portable . Released in January 2011 in Japan , it is the third game in the Valkyria series . Employing the same fusion of tactical and real @-@ time gameplay as its predecessors , the story runs parallel to the first game and follows the \" Nameless \" , a penal military unit serving the nation of Gallia during the Second Europan War who perform secret black operations and are pitted against the Imperial unit \" Calamaty Raven \" . \n",
      "\n",
      "4  The game began development in 2010 , carrying over a large portion of the work done on Valkyria Chronicles II . While it retained the standard features of the series , it also underwent multiple adjustments , such as making the game more forgiving for series newcomers . Character designer Raita Honjou and composer Hitoshi Sakimoto both returned from previous entries , along with Valkyria Chronicles II director Takeshi Ozawa . A large team of writers handled the script . The game 's opening theme was sung by May 'n . \n",
      "\n",
      "5  It met with positive sales in Japan , and was praised by both Japanese and western critics . After release , it received downloadable content , along with an expanded edition in November of that year . It was also adapted into manga and an original video animation series . Due to low sales of Valkyria Chronicles II , Valkyria Chronicles III was not localized , but a fan translation compatible with the game 's expanded edition was released in 2014 . Media.Vision would return to the franchise with the development of Valkyria : Azure Revolution for the PlayStation 4 . \n",
      "\n",
      "6 \n",
      "7  = = Gameplay = = \n",
      "\n",
      "8 \n",
      "9  As with previous Valkyira Chronicles games , Valkyria Chronicles III is a tactical role @-@ playing game where players take control of a military unit and take part in missions against enemy forces . Stories are told through comic book @-@ like panels with animated character portraits , with characters speaking partially through voiced speech bubbles and partially through unvoiced text . The player progresses through a series of linear missions , gradually unlocked as maps that can be freely scanned through and replayed as they are unlocked . The route to each story location on the map varies depending on an individual player 's approach : when one option is selected , the other is sealed off to the player . Outside missions , the player characters rest in a camp , where units can be customized and character growth occurs . Alongside the main story missions are character @-@ specific sub missions relating to different squad members . After the game 's completion , additional episodes are unlocked , some of them having a higher difficulty than those found in the rest of the game . There are also love simulation elements related to the game 's two main heroines , although they take a very minor role . \n",
      "\n"
     ]
    }
   ],
   "source": [
    "num_to_show = 10\n",
    "\n",
    "for i in range(num_to_show):\n",
    "    print(i, dataset[i]['text'])"
   ]
  },
  {
   "cell_type": "markdown",
   "id": "9916a560",
   "metadata": {},
   "source": [
    "Looking at this we can see that the dataset is split at the section/subsection level, with headings occurring as separate records. From a language modelling point of view this doesn't seem ideal (earlier sections provide a lot of useful context, for instance) but let's roll with it for now. This won't be an issue for training a tokeniser, but is a useful thing to experiment with during training."
   ]
  },
  {
   "cell_type": "markdown",
   "id": "ce3dae6a",
   "metadata": {},
   "source": [
    "## Record length distribution"
   ]
  },
  {
   "cell_type": "code",
   "execution_count": 5,
   "id": "d76ddd3a",
   "metadata": {},
   "outputs": [
    {
     "name": "stderr",
     "output_type": "stream",
     "text": [
      "100%|█████████████████████████████████████████████████████████████████████████████████████| 1801350/1801350 [00:08<00:00, 200277.60it/s]\n"
     ]
    }
   ],
   "source": [
    "record_lengths = []\n",
    "for record in tqdm.tqdm(dataset):\n",
    "    record_lengths.append(len(record['text']))"
   ]
  },
  {
   "cell_type": "code",
   "execution_count": 6,
   "id": "142a4387",
   "metadata": {},
   "outputs": [
    {
     "data": {
      "image/png": "[encoded data removed]",
      "text/plain": [
       "<Figure size 432x288 with 1 Axes>"
      ]
     },
     "metadata": {
      "needs_background": "light"
     },
     "output_type": "display_data"
    }
   ],
   "source": [
    "fig, axes = plt.subplots(1)\n",
    "axes.hist(record_lengths, bins=200, log=True)\n",
    "axes.set_xlabel('Record length (characters)')\n",
    "axes.set_ylabel('Count')\n",
    "axes.set_title(f'Record lengths in {dataset_full_name}')\n",
    "plt.show()"
   ]
  },
  {
   "cell_type": "markdown",
   "id": "743b835c",
   "metadata": {},
   "source": [
    "## Number of characters & character count"
   ]
  },
  {
   "cell_type": "code",
   "execution_count": 7,
   "id": "f5fb1f6b",
   "metadata": {},
   "outputs": [
    {
     "name": "stderr",
     "output_type": "stream",
     "text": [
      "100%|██████████████████████████████████████████████████████████████████████████████████████| 1801350/1801350 [00:38<00:00, 46481.82it/s]\n"
     ]
    }
   ],
   "source": [
    "chars = collections.defaultdict(int)  # initialises to zero\n",
    "\n",
    "for record in tqdm.tqdm(dataset):\n",
    "    for char in record['text']:\n",
    "        chars[char] += 1"
   ]
  },
  {
   "cell_type": "code",
   "execution_count": 8,
   "id": "1749a95f",
   "metadata": {},
   "outputs": [
    {
     "name": "stdout",
     "output_type": "stream",
     "text": [
      "Number of unique characters in wikitext/wikitext-103-raw-v1/train: 4979\n"
     ]
    }
   ],
   "source": [
    "num_unique_chars = len(chars.keys())\n",
    "print(f'Number of unique characters in {dataset_full_name}: {num_unique_chars}')"
   ]
  },
  {
   "cell_type": "code",
   "execution_count": 9,
   "id": "5f34c719",
   "metadata": {},
   "outputs": [],
   "source": [
    "char_counts = [chars[k] for k in chars]"
   ]
  },
  {
   "cell_type": "code",
   "execution_count": 10,
   "id": "c449a4f8",
   "metadata": {},
   "outputs": [
    {
     "data": {
      "image/png": "[encoded data removed]",
      "text/plain": [
       "<Figure size 432x288 with 1 Axes>"
      ]
     },
     "metadata": {
      "needs_background": "light"
     },
     "output_type": "display_data"
    }
   ],
   "source": [
    "fig, axes = plt.subplots(1)\n",
    "axes.plot(sorted(char_counts, reverse=True))\n",
    "axes.set_xscale('log')\n",
    "axes.set_yscale('log')\n",
    "axes.set_xlabel('Count rank')\n",
    "axes.set_ylabel('Count')\n",
    "axes.set_title(f'Character counts in {dataset_full_name}')\n",
    "plt.show()"
   ]
  },
  {
   "cell_type": "markdown",
   "id": "f7786a9f",
   "metadata": {},
   "source": [
    "Characters clearly don't follow a Zipfian distribution overall, unlike words. Although the tail plausibly does follow a Zipf distribution, and the first ~100 characters may also do so, the parameters clearly differ between these cases and there's a sharp transition around rank 100."
   ]
  },
  {
   "cell_type": "code",
   "execution_count": null,
   "id": "8682c24c",
   "metadata": {},
   "outputs": [],
   "source": []
  }
 ],
 "metadata": {
  "kernelspec": {
   "display_name": "Python 3 (ipykernel)",
   "language": "python",
   "name": "python3"
  },
  "language_info": {
   "codemirror_mode": {
    "name": "ipython",
    "version": 3
   },
   "file_extension": ".py",
   "mimetype": "text/x-python",
   "name": "python",
   "nbconvert_exporter": "python",
   "pygments_lexer": "ipython3",
   "version": "3.10.6"
  }
 },
 "nbformat": 4,
 "nbformat_minor": 5
}
