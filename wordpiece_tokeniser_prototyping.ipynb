{
 "cells": [
  {
   "cell_type": "code",
   "execution_count": 27,
   "id": "17679324",
   "metadata": {},
   "outputs": [],
   "source": [
    "import string\n",
    "import collections"
   ]
  },
  {
   "cell_type": "code",
   "execution_count": 1,
   "id": "8e435830",
   "metadata": {},
   "outputs": [],
   "source": [
    "corpus = \"\"\"Lorem ipsum dolor sit amet, consectetur adipiscing elit. Sed lectus nulla, pulvinar sed auctor nec, facilisis eu odio. Duis euismod pellentesque turpis, vitae ullamcorper tortor rutrum quis. Duis sed odio ut augue convallis convallis. Morbi at elit ut mi imperdiet vehicula. Suspendisse in sem eget est dapibus pellentesque. In ut condimentum purus. Vivamus vulputate est massa, id pretium quam pharetra eget. Duis porta ipsum vitae nibh tempus, eu ultricies nunc molestie. Nulla facilisi. Donec eu erat vitae leo laoreet mollis a quis metus. In eu libero porta magna vehicula venenatis. Praesent fermentum quam libero, ac volutpat dui tincidunt ac. Pellentesque vitae risus viverra, rhoncus augue ut, pellentesque dui.\"\"\""
   ]
  },
  {
   "cell_type": "code",
   "execution_count": 2,
   "id": "e4c8ecdb",
   "metadata": {},
   "outputs": [
    {
     "name": "stdout",
     "output_type": "stream",
     "text": [
      "Lorem ipsum dolor sit amet, consectetur adipiscing elit. Sed lectus nulla, pulvinar sed auctor nec, facilisis eu odio. Duis euismod pellentesque turpis, vitae ullamcorper tortor rutrum quis. Duis sed odio ut augue convallis convallis. Morbi at elit ut mi imperdiet vehicula. Suspendisse in sem eget est dapibus pellentesque. In ut condimentum purus. Vivamus vulputate est massa, id pretium quam pharetra eget. Duis porta ipsum vitae nibh tempus, eu ultricies nunc molestie. Nulla facilisi. Donec eu erat vitae leo laoreet mollis a quis metus. In eu libero porta magna vehicula venenatis. Praesent fermentum quam libero, ac volutpat dui tincidunt ac. Pellentesque vitae risus viverra, rhoncus augue ut, pellentesque dui.\n"
     ]
    }
   ],
   "source": [
    "print(corpus)"
   ]
  },
  {
   "cell_type": "code",
   "execution_count": null,
   "id": "674277d7",
   "metadata": {},
   "outputs": [],
   "source": [
    "space_char = '##'\n",
    "initial_vocab"
   ]
  },
  {
   "cell_type": "code",
   "execution_count": 6,
   "id": "6db2b608",
   "metadata": {},
   "outputs": [
    {
     "data": {
      "text/plain": [
       "'abcdefghijklmnopqrstuvwxyz'"
      ]
     },
     "execution_count": 6,
     "metadata": {},
     "output_type": "execute_result"
    }
   ],
   "source": [
    "string.ascii_lowercase"
   ]
  },
  {
   "cell_type": "code",
   "execution_count": 7,
   "id": "abff5ae4",
   "metadata": {},
   "outputs": [
    {
     "data": {
      "text/plain": [
       "'ABCDEFGHIJKLMNOPQRSTUVWXYZ'"
      ]
     },
     "execution_count": 7,
     "metadata": {},
     "output_type": "execute_result"
    }
   ],
   "source": [
    "string.ascii_uppercase"
   ]
  },
  {
   "cell_type": "code",
   "execution_count": 11,
   "id": "136c5b37",
   "metadata": {},
   "outputs": [
    {
     "data": {
      "text/plain": [
       "'0123456789'"
      ]
     },
     "execution_count": 11,
     "metadata": {},
     "output_type": "execute_result"
    }
   ],
   "source": [
    "string.digits"
   ]
  },
  {
   "cell_type": "code",
   "execution_count": 14,
   "id": "0e7fec6c",
   "metadata": {},
   "outputs": [
    {
     "data": {
      "text/plain": [
       "['Formatter',\n",
       " 'Template',\n",
       " '_ChainMap',\n",
       " '__all__',\n",
       " '__builtins__',\n",
       " '__cached__',\n",
       " '__doc__',\n",
       " '__file__',\n",
       " '__loader__',\n",
       " '__name__',\n",
       " '__package__',\n",
       " '__spec__',\n",
       " '_re',\n",
       " '_sentinel_dict',\n",
       " '_string',\n",
       " 'ascii_letters',\n",
       " 'ascii_lowercase',\n",
       " 'ascii_uppercase',\n",
       " 'capwords',\n",
       " 'digits',\n",
       " 'hexdigits',\n",
       " 'octdigits',\n",
       " 'printable',\n",
       " 'punctuation',\n",
       " 'whitespace']"
      ]
     },
     "execution_count": 14,
     "metadata": {},
     "output_type": "execute_result"
    }
   ],
   "source": [
    "dir(string)"
   ]
  },
  {
   "cell_type": "code",
   "execution_count": 26,
   "id": "bddaf726",
   "metadata": {},
   "outputs": [
    {
     "data": {
      "text/plain": [
       "'0123456789abcdefghijklmnopqrstuvwxyzABCDEFGHIJKLMNOPQRSTUVWXYZ!\"#$%&\\'()*+,-./:;<=>?@[\\\\]^_`{|}~ \\t\\n\\r\\x0b\\x0c'"
      ]
     },
     "execution_count": 26,
     "metadata": {},
     "output_type": "execute_result"
    }
   ],
   "source": [
    "string.printable"
   ]
  },
  {
   "cell_type": "code",
   "execution_count": 23,
   "id": "26522d58",
   "metadata": {},
   "outputs": [],
   "source": [
    "def inword_chars(vocab, inword_char='##'):\n",
    "    return [f'##{v}' for v in vocab]\n",
    "\n",
    "def build_initial_vocab(inword_char='##'):\n",
    "    initial_vocab = list(string.printable)\n",
    "    initial_vocab = initial_vocab + inword_chars(initial_vocab)\n",
    "    return initial_vocab"
   ]
  },
  {
   "cell_type": "code",
   "execution_count": 28,
   "id": "6c62d779",
   "metadata": {},
   "outputs": [],
   "source": [
    "initial_vocab = build_initial_vocab()"
   ]
  },
  {
   "cell_type": "code",
   "execution_count": 29,
   "id": "1995e2de",
   "metadata": {},
   "outputs": [],
   "source": [
    "vocab_count = {v: 0 for v in initial_vocab}"
   ]
  },
  {
   "cell_type": "code",
   "execution_count": 34,
   "id": "4c51a563",
   "metadata": {},
   "outputs": [],
   "source": [
    "for word in corpus.split(' '):\n",
    "    init_char, *inword_chars = word\n",
    "    vocab_count[init_char] += 1\n",
    "    \n",
    "    for inword_char in inword_chars:\n",
    "        vocab_count[f'##{inword_char}'] += 1"
   ]
  },
  {
   "cell_type": "code",
   "execution_count": 35,
   "id": "3827da1a",
   "metadata": {},
   "outputs": [
    {
     "data": {
      "text/plain": [
       "{'0': 0,\n",
       " '1': 0,\n",
       " '2': 0,\n",
       " '3': 0,\n",
       " '4': 0,\n",
       " '5': 0,\n",
       " '6': 0,\n",
       " '7': 0,\n",
       " '8': 0,\n",
       " '9': 0,\n",
       " 'a': 51,\n",
       " 'b': 5,\n",
       " 'c': 25,\n",
       " 'd': 20,\n",
       " 'e': 87,\n",
       " 'f': 6,\n",
       " 'g': 6,\n",
       " 'h': 5,\n",
       " 'i': 62,\n",
       " 'j': 0,\n",
       " 'k': 0,\n",
       " 'l': 42,\n",
       " 'm': 30,\n",
       " 'n': 33,\n",
       " 'o': 30,\n",
       " 'p': 29,\n",
       " 'q': 12,\n",
       " 'r': 34,\n",
       " 's': 49,\n",
       " 't': 54,\n",
       " 'u': 64,\n",
       " 'v': 25,\n",
       " 'w': 0,\n",
       " 'x': 0,\n",
       " 'y': 0,\n",
       " 'z': 0,\n",
       " 'A': 0,\n",
       " 'B': 0,\n",
       " 'C': 0,\n",
       " 'D': 8,\n",
       " 'E': 0,\n",
       " 'F': 0,\n",
       " 'G': 0,\n",
       " 'H': 0,\n",
       " 'I': 4,\n",
       " 'J': 0,\n",
       " 'K': 0,\n",
       " 'L': 2,\n",
       " 'M': 2,\n",
       " 'N': 2,\n",
       " 'O': 0,\n",
       " 'P': 4,\n",
       " 'Q': 0,\n",
       " 'R': 0,\n",
       " 'S': 4,\n",
       " 'T': 0,\n",
       " 'U': 0,\n",
       " 'V': 2,\n",
       " 'W': 0,\n",
       " 'X': 0,\n",
       " 'Y': 0,\n",
       " 'Z': 0,\n",
       " '!': 0,\n",
       " '\"': 0,\n",
       " '#': 0,\n",
       " '$': 0,\n",
       " '%': 0,\n",
       " '&': 0,\n",
       " \"'\": 0,\n",
       " '(': 0,\n",
       " ')': 0,\n",
       " '*': 0,\n",
       " '+': 0,\n",
       " ',': 9,\n",
       " '-': 0,\n",
       " '.': 14,\n",
       " '/': 0,\n",
       " ':': 0,\n",
       " ';': 0,\n",
       " '<': 0,\n",
       " '=': 0,\n",
       " '>': 0,\n",
       " '?': 0,\n",
       " '@': 0,\n",
       " '[': 0,\n",
       " '\\\\': 0,\n",
       " ']': 0,\n",
       " '^': 0,\n",
       " '_': 0,\n",
       " '`': 0,\n",
       " '{': 0,\n",
       " '|': 0,\n",
       " '}': 0,\n",
       " '~': 0,\n",
       " ' ': 107,\n",
       " '\\t': 0,\n",
       " '\\n': 0,\n",
       " '\\r': 0,\n",
       " '\\x0b': 0,\n",
       " '\\x0c': 0,\n",
       " '##0': 0,\n",
       " '##1': 0,\n",
       " '##2': 0,\n",
       " '##3': 0,\n",
       " '##4': 0,\n",
       " '##5': 0,\n",
       " '##6': 0,\n",
       " '##7': 0,\n",
       " '##8': 0,\n",
       " '##9': 0,\n",
       " '##a': 33,\n",
       " '##b': 5,\n",
       " '##c': 17,\n",
       " '##d': 12,\n",
       " '##e': 63,\n",
       " '##f': 0,\n",
       " '##g': 6,\n",
       " '##h': 5,\n",
       " '##i': 52,\n",
       " '##j': 0,\n",
       " '##k': 0,\n",
       " '##l': 32,\n",
       " '##m': 18,\n",
       " '##n': 25,\n",
       " '##o': 26,\n",
       " '##p': 11,\n",
       " '##q': 4,\n",
       " '##r': 28,\n",
       " '##s': 41,\n",
       " '##t': 46,\n",
       " '##u': 52,\n",
       " '##v': 5,\n",
       " '##w': 0,\n",
       " '##x': 0,\n",
       " '##y': 0,\n",
       " '##z': 0,\n",
       " '##A': 0,\n",
       " '##B': 0,\n",
       " '##C': 0,\n",
       " '##D': 0,\n",
       " '##E': 0,\n",
       " '##F': 0,\n",
       " '##G': 0,\n",
       " '##H': 0,\n",
       " '##I': 0,\n",
       " '##J': 0,\n",
       " '##K': 0,\n",
       " '##L': 0,\n",
       " '##M': 0,\n",
       " '##N': 0,\n",
       " '##O': 0,\n",
       " '##P': 0,\n",
       " '##Q': 0,\n",
       " '##R': 0,\n",
       " '##S': 0,\n",
       " '##T': 0,\n",
       " '##U': 0,\n",
       " '##V': 0,\n",
       " '##W': 0,\n",
       " '##X': 0,\n",
       " '##Y': 0,\n",
       " '##Z': 0,\n",
       " '##!': 0,\n",
       " '##\"': 0,\n",
       " '###': 0,\n",
       " '##$': 0,\n",
       " '##%': 0,\n",
       " '##&': 0,\n",
       " \"##'\": 0,\n",
       " '##(': 0,\n",
       " '##)': 0,\n",
       " '##*': 0,\n",
       " '##+': 0,\n",
       " '##,': 9,\n",
       " '##-': 0,\n",
       " '##.': 14,\n",
       " '##/': 0,\n",
       " '##:': 0,\n",
       " '##;': 0,\n",
       " '##<': 0,\n",
       " '##=': 0,\n",
       " '##>': 0,\n",
       " '##?': 0,\n",
       " '##@': 0,\n",
       " '##[': 0,\n",
       " '##\\\\': 0,\n",
       " '##]': 0,\n",
       " '##^': 0,\n",
       " '##_': 0,\n",
       " '##`': 0,\n",
       " '##{': 0,\n",
       " '##|': 0,\n",
       " '##}': 0,\n",
       " '##~': 0,\n",
       " '## ': 0,\n",
       " '##\\t': 0,\n",
       " '##\\n': 0,\n",
       " '##\\r': 0,\n",
       " '##\\x0b': 0,\n",
       " '##\\x0c': 0}"
      ]
     },
     "execution_count": 35,
     "metadata": {},
     "output_type": "execute_result"
    }
   ],
   "source": [
    "vocab_count"
   ]
  },
  {
   "cell_type": "code",
   "execution_count": 36,
   "id": "7c1ea044",
   "metadata": {},
   "outputs": [],
   "source": [
    "def get_scores(tokenised_corpus):\n",
    "    # Initialise counting dicts\n",
    "    pair_count_dict = collections.defaultdict(int)\n",
    "    tok_count_dict = collections.defaultdict(int)\n",
    "    score_dict = collections.defaultdict(int)\n",
    "    \n",
    "    # Count token freq and co-occurrence\n",
    "    for i, tok1 in enumerate(tokenised_corpus):\n",
    "        tok2 = tokenised_corpus[i+1]\n",
    "        tok_count_dict[tok1] += 1\n",
    "        pair_count_dict[(tok1, tok2)] += 1\n",
    "        \n",
    "    # Compute score\n",
    "    for tok1, tok2 in pair_count_dict:\n",
    "        score_dict[(tok1, tok2)] = pair_count_dict[(tok1, tok2)] / (tok_count_dict[tok1] * tok_count_dict[tok2])\n",
    "        \n",
    "    return score_dict"
   ]
  },
  {
   "cell_type": "code",
   "execution_count": null,
   "id": "50971ac3",
   "metadata": {},
   "outputs": [],
   "source": []
  }
 ],
 "metadata": {
  "kernelspec": {
   "display_name": "Python 3 (ipykernel)",
   "language": "python",
   "name": "python3"
  },
  "language_info": {
   "codemirror_mode": {
    "name": "ipython",
    "version": 3
   },
   "file_extension": ".py",
   "mimetype": "text/x-python",
   "name": "python",
   "nbconvert_exporter": "python",
   "pygments_lexer": "ipython3",
   "version": "3.10.6"
  }
 },
 "nbformat": 4,
 "nbformat_minor": 5
}
