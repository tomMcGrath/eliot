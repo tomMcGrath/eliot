{
 "cells": [
  {
   "cell_type": "code",
   "execution_count": 1,
   "id": "b9aa11b8",
   "metadata": {},
   "outputs": [],
   "source": [
    "import datasets\n",
    "import matplotlib.pyplot as plt\n",
    "import tqdm\n",
    "import collections\n",
    "import numpy as np"
   ]
  },
  {
   "cell_type": "code",
   "execution_count": 2,
   "id": "72ae0ff4",
   "metadata": {},
   "outputs": [
    {
     "name": "stderr",
     "output_type": "stream",
     "text": [
      "Found cached dataset wikitext (/home/tom/.cache/huggingface/datasets/wikitext/wikitext-103-raw-v1/1.0.0/a241db52902eaf2c6aa732210bead40c090019a499ceb13bcbfa3f8ab646a126)\n"
     ]
    }
   ],
   "source": [
    "dataset_group = 'wikitext'\n",
    "dataset_name = 'wikitext-103-raw-v1'\n",
    "dataset_split = 'train'\n",
    "dataset_full_name = '/'.join([dataset_group, dataset_name, dataset_split])\n",
    "\n",
    "dataset = datasets.load_dataset(dataset_group, name=dataset_name, split=dataset_split)"
   ]
  },
  {
   "cell_type": "code",
   "execution_count": 3,
   "id": "92270f1f",
   "metadata": {},
   "outputs": [],
   "source": [
    "batch_size = 3"
   ]
  },
  {
   "cell_type": "code",
   "execution_count": 4,
   "id": "6462c6e6",
   "metadata": {},
   "outputs": [],
   "source": [
    "foo = [['abc', 'def'], ['ghi', 'jkl']]"
   ]
  },
  {
   "cell_type": "code",
   "execution_count": 5,
   "id": "c4a3dfe9",
   "metadata": {},
   "outputs": [
    {
     "name": "stdout",
     "output_type": "stream",
     "text": [
      "['ghi', 'jkl']\n",
      "['abc', 'def']\n",
      "Finished\n"
     ]
    }
   ],
   "source": [
    "while foo:\n",
    "    print(foo.pop())\n",
    "    \n",
    "if not foo:\n",
    "    print('Finished')"
   ]
  },
  {
   "cell_type": "code",
   "execution_count": 6,
   "id": "ff8ac278",
   "metadata": {},
   "outputs": [],
   "source": [
    "sequences = [dataset[i]['text'] for i in range(batch_size)]"
   ]
  },
  {
   "cell_type": "code",
   "execution_count": 7,
   "id": "9f742842",
   "metadata": {},
   "outputs": [],
   "source": [
    "class DatasetIterator:\n",
    "    \n",
    "    def __init__(self, dataset, filter_fn):\n",
    "        self.dataset = dataset\n",
    "        self.filter_fn = filter_fn\n",
    "        self.seq_idx = 0\n",
    "        \n",
    "    def _return_next_record(self):\n",
    "        datum = self.dataset[self.seq_idx]\n",
    "        self.seq_idx += 1\n",
    "        return datum\n",
    "        \n",
    "    def get_next(self):\n",
    "        datum = self._return_next_record()\n",
    "        while not self.filter_fn(datum):\n",
    "            datum = self._return_next_record()\n",
    "        return datum\n",
    "    \n",
    "    def reset(self):\n",
    "        self.seq_idx = 0"
   ]
  },
  {
   "cell_type": "code",
   "execution_count": 8,
   "id": "5bde1056",
   "metadata": {},
   "outputs": [],
   "source": [
    "ds_iterator = DatasetIterator(dataset, lambda x: len(x['text']))"
   ]
  },
  {
   "cell_type": "code",
   "execution_count": 9,
   "id": "aa1abe28",
   "metadata": {
    "scrolled": true
   },
   "outputs": [
    {
     "name": "stdout",
     "output_type": "stream",
     "text": [
      "{'text': ' = Valkyria Chronicles III = \\n'}\n",
      "{'text': ' Senjō no Valkyria 3 : Unrecorded Chronicles ( Japanese : 戦場のヴァルキュリア3 , lit . Valkyria of the Battlefield 3 ) , commonly referred to as Valkyria Chronicles III outside Japan , is a tactical role @-@ playing video game developed by Sega and Media.Vision for the PlayStation Portable . Released in January 2011 in Japan , it is the third game in the Valkyria series . Employing the same fusion of tactical and real @-@ time gameplay as its predecessors , the story runs parallel to the first game and follows the \" Nameless \" , a penal military unit serving the nation of Gallia during the Second Europan War who perform secret black operations and are pitted against the Imperial unit \" Calamaty Raven \" . \\n'}\n",
      "{'text': \" The game began development in 2010 , carrying over a large portion of the work done on Valkyria Chronicles II . While it retained the standard features of the series , it also underwent multiple adjustments , such as making the game more forgiving for series newcomers . Character designer Raita Honjou and composer Hitoshi Sakimoto both returned from previous entries , along with Valkyria Chronicles II director Takeshi Ozawa . A large team of writers handled the script . The game 's opening theme was sung by May 'n . \\n\"}\n",
      "{'text': \" It met with positive sales in Japan , and was praised by both Japanese and western critics . After release , it received downloadable content , along with an expanded edition in November of that year . It was also adapted into manga and an original video animation series . Due to low sales of Valkyria Chronicles II , Valkyria Chronicles III was not localized , but a fan translation compatible with the game 's expanded edition was released in 2014 . Media.Vision would return to the franchise with the development of Valkyria : Azure Revolution for the PlayStation 4 . \\n\"}\n"
     ]
    }
   ],
   "source": [
    "for i in range(4):\n",
    "    print(ds_iterator.get_next())"
   ]
  },
  {
   "cell_type": "code",
   "execution_count": 10,
   "id": "794810f6",
   "metadata": {},
   "outputs": [],
   "source": [
    "foo = ds_iterator.get_next()"
   ]
  },
  {
   "cell_type": "code",
   "execution_count": 11,
   "id": "aa0ad53e",
   "metadata": {},
   "outputs": [
    {
     "data": {
      "text/plain": [
       "' = = Gameplay = = \\n'"
      ]
     },
     "execution_count": 11,
     "metadata": {},
     "output_type": "execute_result"
    }
   ],
   "source": [
    "foo['text']"
   ]
  },
  {
   "cell_type": "code",
   "execution_count": 12,
   "id": "408911ab",
   "metadata": {},
   "outputs": [
    {
     "data": {
      "text/plain": [
       "19"
      ]
     },
     "execution_count": 12,
     "metadata": {},
     "output_type": "execute_result"
    }
   ],
   "source": [
    "text = foo['text']\n",
    "len(text)"
   ]
  },
  {
   "cell_type": "code",
   "execution_count": 13,
   "id": "a8cdaac3",
   "metadata": {},
   "outputs": [
    {
     "data": {
      "text/plain": [
       "' '"
      ]
     },
     "execution_count": 13,
     "metadata": {},
     "output_type": "execute_result"
    }
   ],
   "source": [
    "text[::128]"
   ]
  },
  {
   "cell_type": "code",
   "execution_count": 14,
   "id": "eae8bbfc",
   "metadata": {},
   "outputs": [],
   "source": [
    "class Batcher:\n",
    "    \n",
    "    def __init__(self, data_source, batch_size, seq_len):\n",
    "        self.data_source = data_source\n",
    "        self.batch_size = batch_size\n",
    "        self.seq_len = seq_len\n",
    "        \n",
    "    def setup(self):\n",
    "        self._per_element_data = [self.data_source.get_next() for _ in range(self.batch_size)]"
   ]
  },
  {
   "cell_type": "code",
   "execution_count": 15,
   "id": "e4599fbe",
   "metadata": {},
   "outputs": [],
   "source": [
    "batcher = Batcher(ds_iterator, 4, 128)"
   ]
  },
  {
   "cell_type": "code",
   "execution_count": 16,
   "id": "6638e86a",
   "metadata": {},
   "outputs": [],
   "source": [
    "batcher.setup()"
   ]
  },
  {
   "cell_type": "code",
   "execution_count": 17,
   "id": "2e4a9395",
   "metadata": {
    "scrolled": true
   },
   "outputs": [
    {
     "data": {
      "text/plain": [
       "[{'text': \" As with previous Valkyira Chronicles games , Valkyria Chronicles III is a tactical role @-@ playing game where players take control of a military unit and take part in missions against enemy forces . Stories are told through comic book @-@ like panels with animated character portraits , with characters speaking partially through voiced speech bubbles and partially through unvoiced text . The player progresses through a series of linear missions , gradually unlocked as maps that can be freely scanned through and replayed as they are unlocked . The route to each story location on the map varies depending on an individual player 's approach : when one option is selected , the other is sealed off to the player . Outside missions , the player characters rest in a camp , where units can be customized and character growth occurs . Alongside the main story missions are character @-@ specific sub missions relating to different squad members . After the game 's completion , additional episodes are unlocked , some of them having a higher difficulty than those found in the rest of the game . There are also love simulation elements related to the game 's two main heroines , although they take a very minor role . \\n\"},\n",
       " {'text': ' The game \\'s battle system , the BliTZ system , is carried over directly from Valkyira Chronicles . During missions , players select each unit using a top @-@ down perspective of the battlefield map : once a character is selected , the player moves the character around the battlefield in third @-@ person . A character can only act once per @-@ turn , but characters can be granted multiple turns at the expense of other characters \\' turns . Each character has a field and distance of movement limited by their Action Gauge . Up to nine characters can be assigned to a single mission . During gameplay , characters will call out if something happens to them , such as their health points ( HP ) getting low or being knocked out by enemy attacks . Each character has specific \" Potentials \" , skills unique to each character . They are divided into \" Personal Potential \" , which are innate skills that remain unaltered unless otherwise dictated by the story and can either help or impede a character , and \" Battle Potentials \" , which are grown throughout the game and always grant boons to a character . To learn Battle Potentials , each character has a unique \" Masters Table \" , a grid @-@ based skill table that can be used to acquire and link different skills . Characters also have Special Abilities that grant them temporary boosts on the battlefield : Kurt can activate \" Direct Command \" and move around the battlefield without depleting his Action Point gauge , the character Reila can shift into her \" Valkyria Form \" and become invincible , while Imca can target multiple enemy units with her heavy weapon . \\n'},\n",
       " {'text': \" Troops are divided into five classes : Scouts , Shocktroopers , Engineers , Lancers and Armored Soldier . Troopers can switch classes by changing their assigned weapon . Changing class does not greatly affect the stats gained while in a previous class . With victory in battle , experience points are awarded to the squad , which are distributed into five different attributes shared by the entire squad , a feature differing from early games ' method of distributing to different unit types . \\n\"},\n",
       " {'text': ' = = Plot = = \\n'}]"
      ]
     },
     "execution_count": 17,
     "metadata": {},
     "output_type": "execute_result"
    }
   ],
   "source": [
    "batcher._per_element_data"
   ]
  },
  {
   "cell_type": "code",
   "execution_count": 18,
   "id": "0350581a",
   "metadata": {},
   "outputs": [],
   "source": [
    "import char_tokeniser"
   ]
  },
  {
   "cell_type": "code",
   "execution_count": 19,
   "id": "9fe232d0",
   "metadata": {},
   "outputs": [],
   "source": [
    "tokeniser = char_tokeniser.CharacterTokeniser(vocab_size=100)"
   ]
  },
  {
   "cell_type": "code",
   "execution_count": 20,
   "id": "742490e6",
   "metadata": {},
   "outputs": [
    {
     "name": "stderr",
     "output_type": "stream",
     "text": [
      "100%|██████████████████████████████████████████████████████████████████████████████████████| 1801350/1801350 [00:29<00:00, 60113.39it/s]\n"
     ]
    }
   ],
   "source": [
    "tokeniser.train(dataset)"
   ]
  },
  {
   "cell_type": "code",
   "execution_count": 21,
   "id": "b5d9b564",
   "metadata": {},
   "outputs": [
    {
     "data": {
      "text/plain": [
       "' = = Gameplay = = \\n'"
      ]
     },
     "execution_count": 21,
     "metadata": {},
     "output_type": "execute_result"
    }
   ],
   "source": [
    "text"
   ]
  },
  {
   "cell_type": "code",
   "execution_count": 22,
   "id": "2f944483",
   "metadata": {},
   "outputs": [],
   "source": [
    "tokens = tokeniser.tokenise(text)"
   ]
  },
  {
   "cell_type": "code",
   "execution_count": 23,
   "id": "4af1f443",
   "metadata": {},
   "outputs": [],
   "source": [
    "batch_size = 4"
   ]
  },
  {
   "cell_type": "code",
   "execution_count": 24,
   "id": "f990f139",
   "metadata": {},
   "outputs": [],
   "source": [
    "seq_len = len(tokens)"
   ]
  },
  {
   "cell_type": "code",
   "execution_count": 25,
   "id": "9dd8a785",
   "metadata": {},
   "outputs": [],
   "source": [
    "import math"
   ]
  },
  {
   "cell_type": "code",
   "execution_count": 26,
   "id": "15661d92",
   "metadata": {},
   "outputs": [
    {
     "name": "stdout",
     "output_type": "stream",
     "text": [
      "5\n"
     ]
    }
   ],
   "source": [
    "split_count = math.ceil(seq_len / batch_size)\n",
    "print(split_count)"
   ]
  },
  {
   "cell_type": "code",
   "execution_count": 27,
   "id": "217feca6",
   "metadata": {},
   "outputs": [
    {
     "name": "stdout",
     "output_type": "stream",
     "text": [
      "[2, 33, 2, 33]\n",
      "[2, 53, 5, 16]\n",
      "[3, 19, 12, 5]\n",
      "[21, 2, 33, 2]\n",
      "[33, 2, 36]\n"
     ]
    }
   ],
   "source": [
    "for i in range(split_count):\n",
    "    print(tokens[i*batch_size:(i+1)*batch_size])"
   ]
  },
  {
   "cell_type": "code",
   "execution_count": 28,
   "id": "a1ad7e58",
   "metadata": {},
   "outputs": [
    {
     "data": {
      "text/plain": [
       "[[2, 33, 2, 33], [2, 53, 5, 16], [3, 19, 12, 5], [21, 2, 33, 2], [33, 2, 36]]"
      ]
     },
     "execution_count": 28,
     "metadata": {},
     "output_type": "execute_result"
    }
   ],
   "source": [
    "splits = [tokens[i*batch_size:(i+1)*batch_size] for i in range(split_count)]\n",
    "splits"
   ]
  },
  {
   "cell_type": "code",
   "execution_count": 29,
   "id": "ae643207",
   "metadata": {},
   "outputs": [],
   "source": [
    "def pad(seq, size):\n",
    "    num_to_pad = size - len(seq)\n",
    "    seq += [0,] * num_to_pad\n",
    "    return seq"
   ]
  },
  {
   "cell_type": "code",
   "execution_count": 30,
   "id": "77badf9f",
   "metadata": {},
   "outputs": [
    {
     "data": {
      "text/plain": [
       "[33, 2, 36, 0]"
      ]
     },
     "execution_count": 30,
     "metadata": {},
     "output_type": "execute_result"
    }
   ],
   "source": [
    "pad(splits[-1], size=batch_size)"
   ]
  },
  {
   "cell_type": "code",
   "execution_count": 31,
   "id": "ed20f0aa",
   "metadata": {},
   "outputs": [],
   "source": [
    "splits[-1] = pad(splits[-1], size=batch_size)"
   ]
  },
  {
   "cell_type": "code",
   "execution_count": 32,
   "id": "076c507d",
   "metadata": {},
   "outputs": [
    {
     "data": {
      "text/plain": [
       "[[2, 33, 2, 33],\n",
       " [2, 53, 5, 16],\n",
       " [3, 19, 12, 5],\n",
       " [21, 2, 33, 2],\n",
       " [33, 2, 36, 0]]"
      ]
     },
     "execution_count": 32,
     "metadata": {},
     "output_type": "execute_result"
    }
   ],
   "source": [
    "splits"
   ]
  },
  {
   "cell_type": "code",
   "execution_count": 33,
   "id": "24e3d1a7",
   "metadata": {},
   "outputs": [],
   "source": [
    "from collections import deque"
   ]
  },
  {
   "cell_type": "code",
   "execution_count": 34,
   "id": "8dadf416",
   "metadata": {},
   "outputs": [],
   "source": [
    "data_deque = deque(splits)"
   ]
  },
  {
   "cell_type": "code",
   "execution_count": 35,
   "id": "f5395dcf",
   "metadata": {},
   "outputs": [
    {
     "name": "stdout",
     "output_type": "stream",
     "text": [
      "[2, 33, 2, 33]\n",
      "[2, 53, 5, 16]\n",
      "[3, 19, 12, 5]\n",
      "[21, 2, 33, 2]\n",
      "[33, 2, 36, 0]\n",
      "Queue exhausted!\n"
     ]
    }
   ],
   "source": [
    "for i in range(split_count + 1):\n",
    "    try:\n",
    "        print(data_deque.popleft())\n",
    "    except IndexError:\n",
    "        print('Queue exhausted!')"
   ]
  },
  {
   "cell_type": "code",
   "execution_count": 36,
   "id": "a53aeac7",
   "metadata": {},
   "outputs": [],
   "source": [
    "batch_size = 3"
   ]
  },
  {
   "cell_type": "code",
   "execution_count": 37,
   "id": "b5d82344",
   "metadata": {},
   "outputs": [
    {
     "data": {
      "text/plain": [
       "['_TF_DATASET_REFS',\n",
       " '__class__',\n",
       " '__del__',\n",
       " '__delattr__',\n",
       " '__dict__',\n",
       " '__dir__',\n",
       " '__doc__',\n",
       " '__enter__',\n",
       " '__eq__',\n",
       " '__exit__',\n",
       " '__format__',\n",
       " '__ge__',\n",
       " '__getattribute__',\n",
       " '__getitem__',\n",
       " '__gt__',\n",
       " '__hash__',\n",
       " '__init__',\n",
       " '__init_subclass__',\n",
       " '__iter__',\n",
       " '__le__',\n",
       " '__len__',\n",
       " '__lt__',\n",
       " '__module__',\n",
       " '__ne__',\n",
       " '__new__',\n",
       " '__reduce__',\n",
       " '__reduce_ex__',\n",
       " '__repr__',\n",
       " '__setattr__',\n",
       " '__sizeof__',\n",
       " '__str__',\n",
       " '__subclasshook__',\n",
       " '__weakref__',\n",
       " '_build_local_temp_path',\n",
       " '_check_index_is_initialized',\n",
       " '_data',\n",
       " '_estimate_nbytes',\n",
       " '_fingerprint',\n",
       " '_format_columns',\n",
       " '_format_kwargs',\n",
       " '_format_type',\n",
       " '_get_cache_file_path',\n",
       " '_get_output_signature',\n",
       " '_getitem',\n",
       " '_indexes',\n",
       " '_indices',\n",
       " '_info',\n",
       " '_map_single',\n",
       " '_new_dataset_with_indices',\n",
       " '_output_all_columns',\n",
       " '_push_parquet_shards_to_hub',\n",
       " '_save_to_disk_single',\n",
       " '_select_contiguous',\n",
       " '_select_with_indices_mapping',\n",
       " '_split',\n",
       " 'add_column',\n",
       " 'add_elasticsearch_index',\n",
       " 'add_faiss_index',\n",
       " 'add_faiss_index_from_external_arrays',\n",
       " 'add_item',\n",
       " 'align_labels_with_mapping',\n",
       " 'builder_name',\n",
       " 'cache_files',\n",
       " 'cast',\n",
       " 'cast_column',\n",
       " 'citation',\n",
       " 'class_encode_column',\n",
       " 'cleanup_cache_files',\n",
       " 'column_names',\n",
       " 'config_name',\n",
       " 'data',\n",
       " 'dataset_size',\n",
       " 'description',\n",
       " 'download_checksums',\n",
       " 'download_size',\n",
       " 'drop_index',\n",
       " 'export',\n",
       " 'features',\n",
       " 'filter',\n",
       " 'flatten',\n",
       " 'flatten_indices',\n",
       " 'format',\n",
       " 'formatted_as',\n",
       " 'from_buffer',\n",
       " 'from_csv',\n",
       " 'from_dict',\n",
       " 'from_file',\n",
       " 'from_generator',\n",
       " 'from_json',\n",
       " 'from_list',\n",
       " 'from_pandas',\n",
       " 'from_parquet',\n",
       " 'from_sql',\n",
       " 'from_text',\n",
       " 'get_index',\n",
       " 'get_nearest_examples',\n",
       " 'get_nearest_examples_batch',\n",
       " 'homepage',\n",
       " 'info',\n",
       " 'is_index_initialized',\n",
       " 'iter',\n",
       " 'license',\n",
       " 'list_indexes',\n",
       " 'load_elasticsearch_index',\n",
       " 'load_faiss_index',\n",
       " 'load_from_disk',\n",
       " 'map',\n",
       " 'num_columns',\n",
       " 'num_rows',\n",
       " 'prepare_for_task',\n",
       " 'push_to_hub',\n",
       " 'remove_columns',\n",
       " 'rename_column',\n",
       " 'rename_columns',\n",
       " 'reset_format',\n",
       " 'save_faiss_index',\n",
       " 'save_to_disk',\n",
       " 'search',\n",
       " 'search_batch',\n",
       " 'select',\n",
       " 'set_format',\n",
       " 'set_transform',\n",
       " 'shape',\n",
       " 'shard',\n",
       " 'shuffle',\n",
       " 'size_in_bytes',\n",
       " 'sort',\n",
       " 'split',\n",
       " 'supervised_keys',\n",
       " 'task_templates',\n",
       " 'to_csv',\n",
       " 'to_dict',\n",
       " 'to_json',\n",
       " 'to_pandas',\n",
       " 'to_parquet',\n",
       " 'to_sql',\n",
       " 'to_tf_dataset',\n",
       " 'train_test_split',\n",
       " 'unique',\n",
       " 'version',\n",
       " 'with_format',\n",
       " 'with_transform']"
      ]
     },
     "execution_count": 37,
     "metadata": {},
     "output_type": "execute_result"
    }
   ],
   "source": [
    "dir(dataset)"
   ]
  },
  {
   "cell_type": "code",
   "execution_count": 38,
   "id": "2da22111",
   "metadata": {},
   "outputs": [],
   "source": [
    "ds_iter = dataset.iter(batch_size=1)"
   ]
  },
  {
   "cell_type": "code",
   "execution_count": 39,
   "id": "324aa3d8",
   "metadata": {},
   "outputs": [],
   "source": [
    "text = next(ds_iter)"
   ]
  },
  {
   "cell_type": "code",
   "execution_count": 40,
   "id": "d61de82a",
   "metadata": {},
   "outputs": [
    {
     "data": {
      "text/plain": [
       "{'text': ['']}"
      ]
     },
     "execution_count": 40,
     "metadata": {},
     "output_type": "execute_result"
    }
   ],
   "source": [
    "text"
   ]
  },
  {
   "cell_type": "code",
   "execution_count": 41,
   "id": "292e9abf",
   "metadata": {},
   "outputs": [
    {
     "name": "stdout",
     "output_type": "stream",
     "text": [
      "Sequence length in tokens: 1\n",
      "Subsequence length: 5\n",
      "Number of splits: 1\n"
     ]
    }
   ],
   "source": [
    "foo = tokeniser.tokenise_and_batch(text, 5)"
   ]
  },
  {
   "cell_type": "code",
   "execution_count": 42,
   "id": "b3f4c7fe",
   "metadata": {},
   "outputs": [
    {
     "data": {
      "text/plain": [
       "list"
      ]
     },
     "execution_count": 42,
     "metadata": {},
     "output_type": "execute_result"
    }
   ],
   "source": [
    "type(foo)"
   ]
  },
  {
   "cell_type": "code",
   "execution_count": 43,
   "id": "80cdae2d",
   "metadata": {},
   "outputs": [],
   "source": [
    "class DataSource:\n",
    "    \n",
    "    def __init__(self, data_iterator, tokeniser, seq_len):\n",
    "        \"\"\"Initialise the DataSource.\"\"\"\n",
    "        self.data_iterator = data_iterator\n",
    "        self.tokeniser = tokeniser\n",
    "        self.seq_len = seq_len\n",
    "        \n",
    "    def _get_from_iterator_and_tokenise(self):\n",
    "        \"\"\"Gets a new sequence from the data iterator and tokenise.\"\"\"\n",
    "        tokenised_next_record = None\n",
    "        while tokenised_next_record is None:\n",
    "            next_record = next(self.data_iterator)\n",
    "            try:\n",
    "                tokenised_next_record = self.tokeniser.tokenise_and_batch(\n",
    "                    next_record['text'][0], self.seq_len)\n",
    "            except ValueError:\n",
    "                continue\n",
    "        return tokenised_next_record"
   ]
  },
  {
   "cell_type": "code",
   "execution_count": 44,
   "id": "4b45f804",
   "metadata": {},
   "outputs": [],
   "source": [
    "datasource = DataSource(\n",
    "    dataset.iter(batch_size=1),\n",
    "    tokeniser,\n",
    "    seq_len=4\n",
    ")"
   ]
  },
  {
   "cell_type": "code",
   "execution_count": 49,
   "id": "d2bf8396",
   "metadata": {},
   "outputs": [
    {
     "name": "stdout",
     "output_type": "stream",
     "text": [
      "{'text': ['']}\n",
      "{'text': [' Senjō no Valkyria 3 : Unrecorded Chronicles ( Japanese : 戦場のヴァルキュリア3 , lit . Valkyria of the Battlefield 3 ) , commonly referred to as Valkyria Chronicles III outside Japan , is a tactical role @-@ playing video game developed by Sega and Media.Vision for the PlayStation Portable . Released in January 2011 in Japan , it is the third game in the Valkyria series . Employing the same fusion of tactical and real @-@ time gameplay as its predecessors , the story runs parallel to the first game and follows the \" Nameless \" , a penal military unit serving the nation of Gallia during the Second Europan War who perform secret black operations and are pitted against the Imperial unit \" Calamaty Raven \" . \\n']}\n",
      "Sequence length in tokens: 706\n",
      "Subsequence length: 4\n",
      "Number of splits: 177\n",
      "[[2, 30, 3, 6], [66, 98, 2, 6], [8, 2, 70, 5], [12, 26, 21, 9], [7, 5, 2, 56], [2, 73, 2, 69], [6, 9, 3, 14], [8, 9, 13, 3], [13, 2, 34, 11], [9, 8, 6, 7], [14, 12, 3, 10], [2, 55, 2, 60], [5, 19, 5, 6], [3, 10, 3, 2], [73, 2, 0, 0], [0, 0, 0, 0], [0, 0, 0, 0], [56, 2, 23, 2], [12, 7, 4, 2], [24, 2, 70, 5], [12, 26, 21, 9], [7, 5, 2, 8], [17, 2, 4, 11], [3, 2, 39, 5], [4, 4, 12, 3], [17, 7, 3, 12], [13, 2, 56, 2], [54, 2, 23, 2], [14, 8, 16, 16], [8, 6, 12, 21], [2, 9, 3, 17], [3, 9, 9, 3], [13, 2, 4, 8], [2, 5, 10, 2], [70, 5, 12, 26], [21, 9, 7, 5], [2, 34, 11, 9], [8, 6, 7, 14], [12, 3, 10, 2], [40, 40, 40, 2], [8, 15, 4, 10], [7, 13, 3, 2], [60, 5, 19, 5], [6, 2, 23, 2], [7, 10, 2, 5], [2, 4, 5, 14], [4, 7, 14, 5], [12, 2, 9, 8], [12, 3, 2, 27], [43, 27, 2, 19], [12, 5, 21, 7], [6, 18, 2, 25], [7, 13, 3, 8], [2, 18, 5, 16], [3, 2, 13, 3], [25, 3, 12, 8], [19, 3, 13, 2], [22, 21, 2, 30], [3, 18, 5, 2], [5, 6, 13, 2], [37, 3, 13, 7], [5, 24, 70, 7], [10, 7, 8, 6], [2, 17, 8, 9], [2, 4, 11, 3], [2, 45, 12, 5], [21, 30, 4, 5], [4, 7, 8, 6], [2, 45, 8, 9], [4, 5, 22, 12], [3, 2, 24, 2], [47, 3, 12, 3], [5, 10, 3, 13], [2, 7, 6, 2], [60, 5, 6, 15], [5, 9, 21, 2], [38, 31, 28, 28], [2, 7, 6, 2], [60, 5, 19, 5], [6, 2, 23, 2], [7, 4, 2, 7], [10, 2, 4, 11], [3, 2, 4, 11], [7, 9, 13, 2], [18, 5, 16, 3], [2, 7, 6, 2], [4, 11, 3, 2], [70, 5, 12, 26], [21, 9, 7, 5], [2, 10, 3, 9], [7, 3, 10, 2], [24, 2, 59, 16], [19, 12, 8, 21], [7, 6, 18, 2], [4, 11, 3, 2], [10, 5, 16, 3], [2, 17, 15, 10], [7, 8, 6, 2], [8, 17, 2, 4], [5, 14, 4, 7], [14, 5, 12, 2], [5, 6, 13, 2], [9, 3, 5, 12], [2, 27, 43, 27], [2, 4, 7, 16], [3, 2, 18, 5], [16, 3, 19, 12], [5, 21, 2, 5], [10, 2, 7, 4], [10, 2, 19, 9], [3, 13, 3, 14], [3, 10, 10, 8], [9, 10, 2, 23], [2, 4, 11, 3], [2, 10, 4, 8], [9, 21, 2, 9], [15, 6, 10, 2], [19, 5, 9, 5], [12, 12, 3, 12], [2, 4, 8, 2], [4, 11, 3, 2], [17, 7, 9, 10], [4, 2, 18, 5], [16, 3, 2, 5], [6, 13, 2, 17], [8, 12, 12, 8], [20, 10, 2, 4], [11, 3, 2, 35], [2, 52, 5, 16], [3, 12, 3, 10], [10, 2, 35, 2], [23, 2, 5, 2], [19, 3, 6, 5], [12, 2, 16, 7], [12, 7, 4, 5], [9, 21, 2, 15], [6, 7, 4, 2], [10, 3, 9, 25], [7, 6, 18, 2], [4, 11, 3, 2], [6, 5, 4, 7], [8, 6, 2, 8], [17, 2, 53, 5], [12, 12, 7, 5], [2, 13, 15, 9], [7, 6, 18, 2], [4, 11, 3, 2], [30, 3, 14, 8], [6, 13, 2, 59], [15, 9, 8, 19], [5, 6, 2, 50], [5, 9, 2, 20], [11, 8, 2, 19], [3, 9, 17, 8], [9, 16, 2, 10], [3, 14, 9, 3], [4, 2, 22, 12], [5, 14, 26, 2], [8, 19, 3, 9], [5, 4, 7, 8], [6, 10, 2, 5], [6, 13, 2, 5], [9, 3, 2, 19], [7, 4, 4, 3], [13, 2, 5, 18], [5, 7, 6, 10], [4, 2, 4, 11], [3, 2, 40, 16], [19, 3, 9, 7], [5, 12, 2, 15], [6, 7, 4, 2], [35, 2, 34, 5], [12, 5, 16, 5], [4, 21, 2, 47], [5, 25, 3, 6], [2, 35, 2, 24], [2, 36, 1, 1]]\n"
     ]
    }
   ],
   "source": [
    "tok_batches = datasource._get_from_iterator_and_tokenise()"
   ]
  },
  {
   "cell_type": "code",
   "execution_count": 51,
   "id": "db5a09fc",
   "metadata": {},
   "outputs": [
    {
     "data": {
      "text/plain": [
       "' Senjō no Valkyria 3 : Unrecorded Chronicles ( Japanese : [UNK][UNK][UNK][UNK][UNK][UNK][UNK][UNK][UNK][UNK]3 , lit . Valkyria of the Battlefield 3 ) , commonly referred to as Valkyria Chronicles III outside Japan , is a tactical role @-@ playing video game developed by Sega and Media.Vision for the PlayStation Portable . Released in January 2011 in Japan , it is the third game in the Valkyria series . Employing the same fusion of tactical and real @-@ time gameplay as its predecessors , the story runs parallel to the first game and follows the \" Nameless \" , a penal military unit serving the nation of Gallia during the Second Europan War who perform secret black operations and are pitted against the Imperial unit \" Calamaty Raven \" . \\n[PAD][PAD]'"
      ]
     },
     "execution_count": 51,
     "metadata": {},
     "output_type": "execute_result"
    }
   ],
   "source": [
    "''.join([tokeniser.detokenise_to_string(b) for b in tok_batches])"
   ]
  },
  {
   "cell_type": "code",
   "execution_count": 46,
   "id": "3d883708",
   "metadata": {},
   "outputs": [
    {
     "name": "stdout",
     "output_type": "stream",
     "text": [
      "[' = Valkyria Chronicles III = \\n']\n"
     ]
    }
   ],
   "source": [
    "text = next(ds_iter)['text']\n",
    "print(text)"
   ]
  },
  {
   "cell_type": "code",
   "execution_count": 47,
   "id": "8a2c04cd",
   "metadata": {},
   "outputs": [
    {
     "data": {
      "text/plain": [
       "' = Valkyria Chronicles III = \\n'"
      ]
     },
     "execution_count": 47,
     "metadata": {},
     "output_type": "execute_result"
    }
   ],
   "source": [
    "text[0]"
   ]
  },
  {
   "cell_type": "code",
   "execution_count": 48,
   "id": "90fefcd2",
   "metadata": {},
   "outputs": [
    {
     "ename": "TypeError",
     "evalue": "list indices must be integers or slices, not str",
     "output_type": "error",
     "traceback": [
      "\u001b[0;31m---------------------------------------------------------------------------\u001b[0m",
      "\u001b[0;31mTypeError\u001b[0m                                 Traceback (most recent call last)",
      "\u001b[0;32m/tmp/ipykernel_33572/3928391212.py\u001b[0m in \u001b[0;36m<module>\u001b[0;34m\u001b[0m\n\u001b[0;32m----> 1\u001b[0;31m \u001b[0mtokeniser\u001b[0m\u001b[0;34m.\u001b[0m\u001b[0mtokenise_and_batch\u001b[0m\u001b[0;34m(\u001b[0m\u001b[0mtext\u001b[0m\u001b[0;34m[\u001b[0m\u001b[0;34m'text'\u001b[0m\u001b[0;34m]\u001b[0m\u001b[0;34m,\u001b[0m \u001b[0mseq_len\u001b[0m\u001b[0;34m=\u001b[0m\u001b[0;36m10\u001b[0m\u001b[0;34m)\u001b[0m\u001b[0;34m\u001b[0m\u001b[0;34m\u001b[0m\u001b[0m\n\u001b[0m",
      "\u001b[0;31mTypeError\u001b[0m: list indices must be integers or slices, not str"
     ]
    }
   ],
   "source": [
    "tokeniser.tokenise_and_batch(text['text'], seq_len=10)"
   ]
  },
  {
   "cell_type": "code",
   "execution_count": null,
   "id": "bfb36dc8",
   "metadata": {},
   "outputs": [],
   "source": [
    "dir(tokeniser)"
   ]
  },
  {
   "cell_type": "code",
   "execution_count": null,
   "id": "99a799fd",
   "metadata": {},
   "outputs": [],
   "source": [
    "tokeniser.is_trained"
   ]
  },
  {
   "cell_type": "code",
   "execution_count": null,
   "id": "4f5d43ba",
   "metadata": {},
   "outputs": [],
   "source": [
    "tokeniser._char_to_tok.keys()"
   ]
  },
  {
   "cell_type": "code",
   "execution_count": null,
   "id": "574209d2",
   "metadata": {},
   "outputs": [],
   "source": []
  }
 ],
 "metadata": {
  "kernelspec": {
   "display_name": "Python 3 (ipykernel)",
   "language": "python",
   "name": "python3"
  },
  "language_info": {
   "codemirror_mode": {
    "name": "ipython",
    "version": 3
   },
   "file_extension": ".py",
   "mimetype": "text/x-python",
   "name": "python",
   "nbconvert_exporter": "python",
   "pygments_lexer": "ipython3",
   "version": "3.10.6"
  }
 },
 "nbformat": 4,
 "nbformat_minor": 5
}
